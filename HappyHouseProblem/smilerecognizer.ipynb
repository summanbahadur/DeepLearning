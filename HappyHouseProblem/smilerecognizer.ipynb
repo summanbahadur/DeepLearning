{
 "cells": [
  {
   "cell_type": "markdown",
   "id": "8071a7b0",
   "metadata": {},
   "source": [
    "Assignment 1 : Image Recognition - Happy Face Detection <br>\n",
    "Name : Summan Bahadur"
   ]
  },
  {
   "cell_type": "code",
   "execution_count": 1,
   "id": "673ef5ce",
   "metadata": {},
   "outputs": [],
   "source": [
    "#Import all packages\n",
    "import numpy as np\n",
    "import matplotlib.pyplot as plt\n",
    "import h5py\n",
    "import scipy\n",
    "from PIL import Image\n",
    "from scipy import ndimage\n",
    "\n",
    "%matplotlib inline"
   ]
  },
  {
   "cell_type": "code",
   "execution_count": 2,
   "id": "951d4e7a",
   "metadata": {},
   "outputs": [],
   "source": [
    "#Function to load dataset\n",
    "def load_dataset():\n",
    "    train_dataset = h5py.File('datasets/train_happy.h5', \"r\")\n",
    "    train_set_x_orig = np.array(train_dataset[\"train_set_x\"][:]) # your train set features\n",
    "    train_set_y_orig = np.array(train_dataset[\"train_set_y\"][:]) # your train set labels\n",
    "\n",
    "    test_dataset = h5py.File('datasets/test_happy.h5', \"r\")\n",
    "    test_set_x_orig = np.array(test_dataset[\"test_set_x\"][:]) # your test set features\n",
    "    test_set_y_orig = np.array(test_dataset[\"test_set_y\"][:]) # your test set labels\n",
    "\n",
    "    classes = np.array(test_dataset[\"list_classes\"][:]) # the list of classes\n",
    "    \n",
    "    train_set_y_orig = train_set_y_orig.reshape((1, train_set_y_orig.shape[0]))\n",
    "    test_set_y_orig = test_set_y_orig.reshape((1, test_set_y_orig.shape[0]))\n",
    "    \n",
    "    return train_set_x_orig, train_set_y_orig, test_set_x_orig, test_set_y_orig, classes"
   ]
  },
  {
   "cell_type": "code",
   "execution_count": 3,
   "id": "2a5d0634",
   "metadata": {},
   "outputs": [],
   "source": [
    "#Call the load function\n",
    "train_set_x_orig, train_set_y, test_set_x_orig, test_set_y, classes = load_dataset()"
   ]
  },
  {
   "cell_type": "code",
   "execution_count": 4,
   "id": "d812582a",
   "metadata": {},
   "outputs": [
    {
     "name": "stdout",
     "output_type": "stream",
     "text": [
      "[0 1]\n"
     ]
    }
   ],
   "source": [
    "#There are two classes 0-Not Happy and 1-Happy\n",
    "print(classes)"
   ]
  },
  {
   "cell_type": "code",
   "execution_count": 5,
   "id": "b51b26ed",
   "metadata": {},
   "outputs": [
    {
     "name": "stdout",
     "output_type": "stream",
     "text": [
      "Training Image: \n",
      "Associated Output : [1]\n"
     ]
    },
    {
     "data": {
      "image/png": "[encoded data removed]",
      "text/plain": [
       "<Figure size 432x288 with 1 Axes>"
      ]
     },
     "metadata": {
      "needs_background": "light"
     },
     "output_type": "display_data"
    }
   ],
   "source": [
    "#Example of an image\n",
    "index=1\n",
    "print('Training Image: ')\n",
    "plt.imshow(train_set_x_orig[index])\n",
    "print('Associated Output : '+ str(train_set_y[:,index]) )"
   ]
  },
  {
   "cell_type": "code",
   "execution_count": 6,
   "id": "0fd9a875",
   "metadata": {},
   "outputs": [
    {
     "data": {
      "text/plain": [
       "(600, 64, 64, 3)"
      ]
     },
     "execution_count": 6,
     "metadata": {},
     "output_type": "execute_result"
    }
   ],
   "source": [
    "#Shape of training example\n",
    "#Shape of training example is (m_train , num_px , num_px , 3) , where m_train is the number of training examples\n",
    "#num_px is the width = height of the training image\n",
    "train_set_x_orig.shape"
   ]
  },
  {
   "cell_type": "code",
   "execution_count": 7,
   "id": "41c2b25b",
   "metadata": {},
   "outputs": [
    {
     "data": {
      "text/plain": [
       "(150, 64, 64, 3)"
      ]
     },
     "execution_count": 7,
     "metadata": {},
     "output_type": "execute_result"
    }
   ],
   "source": [
    "test_set_x_orig.shape"
   ]
  },
  {
   "cell_type": "code",
   "execution_count": 8,
   "id": "cb8eccc4",
   "metadata": {},
   "outputs": [
    {
     "name": "stdout",
     "output_type": "stream",
     "text": [
      "m_train = 600 m_test= 150num_\n"
     ]
    }
   ],
   "source": [
    "m_train = train_set_x_orig.shape[0]\n",
    "m_test = test_set_x_orig.shape[0]\n",
    "num_px = train_set_x_orig.shape[1]\n",
    "\n",
    "print('m_train = '+str(m_train) +' m_test= '+str(m_test) + 'num_')"
   ]
  },
  {
   "cell_type": "markdown",
   "id": "4c9b1244",
   "metadata": {},
   "source": [
    "Preprocessing"
   ]
  },
  {
   "cell_type": "code",
   "execution_count": 9,
   "id": "6267f99a",
   "metadata": {},
   "outputs": [],
   "source": [
    "#Reshaping each example of size(num_px , num_px , 3)  to -> (num_px*num_px*3,1)\n",
    "#A trick to flattern an image of shape (a,b,c,d) to a matrix X_flattern of shape (b*c*d , a)\n",
    "#X_flattern = X.reshape(X.shape[0],-1).T\n",
    "\n",
    "train_set_x_flatten = train_set_x_orig.reshape(train_set_x_orig.shape[0],-1).T\n",
    "test_set_x_flatten = test_set_x_orig.reshape(test_set_x_orig.shape[0],-1).T"
   ]
  },
  {
   "cell_type": "code",
   "execution_count": 10,
   "id": "889ec2ed",
   "metadata": {},
   "outputs": [
    {
     "data": {
      "text/plain": [
       "(12288, 600)"
      ]
     },
     "execution_count": 10,
     "metadata": {},
     "output_type": "execute_result"
    }
   ],
   "source": [
    "train_set_x_flatten.shape"
   ]
  },
  {
   "cell_type": "code",
   "execution_count": 11,
   "id": "dadc02e7",
   "metadata": {},
   "outputs": [],
   "source": [
    "#Standarize our dataset\n",
    "train_set_x = train_set_x_flatten/255.\n",
    "test_set_x = test_set_x_flatten/255."
   ]
  },
  {
   "cell_type": "markdown",
   "id": "8e06b47c",
   "metadata": {},
   "source": [
    "Creating Model"
   ]
  },
  {
   "cell_type": "code",
   "execution_count": 12,
   "id": "181dbce4",
   "metadata": {},
   "outputs": [],
   "source": [
    "#1- Initialize the parameters\n",
    "#2- Learn the parameters by minimizing the cost\n",
    "#3- Use the learnt parameters to make the predictions\n"
   ]
  },
  {
   "cell_type": "code",
   "execution_count": 13,
   "id": "99342750",
   "metadata": {},
   "outputs": [],
   "source": [
    "#Helper Function - Sigmoid Function\n",
    "\n",
    "def sigmoid(z):\n",
    "    #z is a scalar or a numpy array of any size\n",
    "    s = 1/ (1+np.exp(-z))\n",
    "    return s"
   ]
  },
  {
   "cell_type": "code",
   "execution_count": 14,
   "id": "b7299ba0",
   "metadata": {},
   "outputs": [
    {
     "name": "stdout",
     "output_type": "stream",
     "text": [
      "[0.5        0.88079708]\n"
     ]
    }
   ],
   "source": [
    "print(sigmoid(np.array([0,2])))"
   ]
  },
  {
   "cell_type": "code",
   "execution_count": 15,
   "id": "0540bf66",
   "metadata": {},
   "outputs": [],
   "source": [
    "#Initialize function\n",
    "#This function creates a vector of size (dim,1) for w and sets b to 0\n",
    "def initialize_with_zeros(dim):\n",
    "    w = np.zeros(shape=(dim,1), dtype=np.float32)\n",
    "    b=0\n",
    "    return w,b\n",
    "    "
   ]
  },
  {
   "cell_type": "code",
   "execution_count": 16,
   "id": "8b13d1c2",
   "metadata": {},
   "outputs": [],
   "source": [
    "#Forward and backward propagation\n",
    "#Propagate function that calculates the cost function and its gradient\n",
    "\n",
    "# Input\n",
    "# w - weights, a numpy array of size (num_px*num_px*3,1)\n",
    "# b - bias , a scalar\n",
    "# X - data of size (num_px*num_px*3 , num_of_examples)\n",
    "# Y - true label vector (containing 0 or 1) of size (1, num_of_examples)\n",
    "\n",
    "# Output\n",
    "# cost - negative log - likelihood cost of logistic regression\n",
    "# dw - gradient of the loss with respect to w - same shape as w\n",
    "# db - gradient of the loss with respect to b - same shape as b\n",
    "\n",
    "def propagate(w,b,X,Y):\n",
    "    m = X.shape[1]\n",
    "    #Forward propagation from X to Cost\n",
    "    A = sigmoid(np.dot(w.T,X) +b)\n",
    "    cost = (-1./m)*np.sum((Y*np.log(A)+(1-Y)*np.log(1-A)), axis=1)\n",
    "    \n",
    "    #Backward propagation\n",
    "    dw = (1./m) * np.dot(X , ((A-Y).T))\n",
    "    db = (1./m) * np.sum(A-Y , axis=1)\n",
    "    \n",
    "    \n",
    "    assert (dw.shape == w.shape)\n",
    "    assert (db.dtype == float)\n",
    "    \n",
    "    cost = np.squeeze(cost)\n",
    "    \n",
    "    \n",
    "    grades = {'dw' :dw ,'db' : db}\n",
    "    \n",
    "    return grades , cost"
   ]
  },
  {
   "cell_type": "markdown",
   "id": "c59d71af",
   "metadata": {},
   "source": [
    "Optimization"
   ]
  },
  {
   "cell_type": "code",
   "execution_count": 17,
   "id": "c4a7cc11",
   "metadata": {},
   "outputs": [],
   "source": [
    "#We have initialized out paramters\n",
    "#We are also able to find cost function and it's gradient\n",
    "#Now , we want to update the parameters using gradient descent"
   ]
  },
  {
   "cell_type": "code",
   "execution_count": 18,
   "id": "03ccfc72",
   "metadata": {},
   "outputs": [],
   "source": [
    "# The goal is to learn w and b by minimizing J . \n",
    "#For a parameter 0 the update rule is 0 = 0 -a d0 where a is the learning rate\n",
    "\n",
    "def optimize(w,b,X , Y ,num_iterations , learning_rate , print_cost = False):\n",
    "    # We need to do following two steps\n",
    "    # 1 - Calculate cost and gradient of the current paramaters using propagate\n",
    "    # 2 - Update the parameters using gradient descent rule for w and b\n",
    "    \n",
    "    costs = []\n",
    "    \n",
    "    for i in range(num_iterations):\n",
    "        \n",
    "        grads , cost = propagate(w=w, b=b , X=X , Y=Y)\n",
    "        dw = grads['dw']\n",
    "        db = grads['db']\n",
    "        \n",
    "        w = w - learning_rate*dw\n",
    "        b = b - learning_rate * db\n",
    "        \n",
    "        #Record the costs\n",
    "        if i % 100 ==0:\n",
    "            costs.append(cost)\n",
    "            \n",
    "        #Print the cost every one hundered iterations\n",
    "        if print_cost and (i%100==0):\n",
    "            print('Cost after iteration %i : %f' %(i,cost))\n",
    "\n",
    "            \n",
    "    params = {'w':w , 'b':b}\n",
    "    grads = {'dw':dw , 'db':db}\n",
    "        \n",
    "    return params , grads , costs\n",
    "        \n",
    "    "
   ]
  },
  {
   "cell_type": "code",
   "execution_count": 19,
   "id": "dec88ab1",
   "metadata": {},
   "outputs": [],
   "source": [
    "#Prediction\n",
    "\n",
    "#Two steps for prediction\n",
    "# 1 - Calculate Y^ = A = sigmoid (w.T * X) +b\n",
    "# 2 - Convert the entries of A into 0 (if activation <=0.5) or 1 (if activation >0.5) \n",
    "\n",
    "def predict(w , b , X):\n",
    "    m = X.shape[1]\n",
    "    \n",
    "    Y_prediction = np.zeros(shape=(1,m))\n",
    "    w = w.reshape(X.shape[0],1)\n",
    "    \n",
    "    A = sigmoid(np.dot(w.T, X) + b)\n",
    "    \n",
    "    for i in range(A.shape[1]):\n",
    "        if A[0,i] >=0.5:\n",
    "            Y_prediction[0,i] =1\n",
    "        else:\n",
    "            Y_prediction[0,i] =0\n",
    "        \n",
    "\n",
    "    assert(Y_prediction.shape == (1,m))\n",
    "    \n",
    "    return Y_prediction"
   ]
  },
  {
   "cell_type": "code",
   "execution_count": 20,
   "id": "2eb3a411",
   "metadata": {},
   "outputs": [],
   "source": [
    "#Model - Merge all functions into a model\n",
    "\n",
    "def model(X_train , Y_train , X_test , Y_test , num_iterations=2000 , learning_rate=0.5 , print_cost= False):\n",
    "    \n",
    "    #Initialize\n",
    "    w , b = initialize_with_zeros (X_train.shape[0])\n",
    "    \n",
    "    #Gradient Descent\n",
    "    parameters , grads , costs = optimize (w , b , X_train , Y_train , num_iterations , learning_rate , print_cost)\n",
    "    \n",
    "    w= parameters['w']\n",
    "    b = parameters ['b']\n",
    "    \n",
    "    #Predict test and training set examples\n",
    "    Y_prediction_test = predict(w, b, X_test)\n",
    "    Y_prediction_train = predict(w, b, X_train)\n",
    "    \n",
    "    \n",
    "      # Print train/test Errors\n",
    "    print(\"train accuracy: {} %\".format(100 - np.mean(np.abs(Y_prediction_train - Y_train)) * 100))\n",
    "    print(\"test accuracy: {} %\".format(100 - np.mean(np.abs(Y_prediction_test - Y_test)) * 100))\n",
    "\n",
    "    \n",
    "    d = {\"costs\": costs,\n",
    "         \"Y_prediction_test\": Y_prediction_test, \n",
    "         \"Y_prediction_train\" : Y_prediction_train, \n",
    "         \"w\" : w, \n",
    "         \"b\" : b,\n",
    "         \"learning_rate\" : learning_rate,\n",
    "         \"num_iterations\": num_iterations}\n",
    "    \n",
    "    return d\n",
    "    \n",
    "    "
   ]
  },
  {
   "cell_type": "code",
   "execution_count": 21,
   "id": "00abb54a",
   "metadata": {},
   "outputs": [
    {
     "name": "stdout",
     "output_type": "stream",
     "text": [
      "Cost after iteration 0 : 0.693147\n",
      "Cost after iteration 100 : 1.458491\n",
      "Cost after iteration 200 : 0.682289\n",
      "Cost after iteration 300 : 0.426329\n",
      "Cost after iteration 400 : 0.210642\n",
      "Cost after iteration 500 : 0.180986\n",
      "Cost after iteration 600 : 0.168836\n",
      "Cost after iteration 700 : 0.159491\n",
      "Cost after iteration 800 : 0.151692\n",
      "Cost after iteration 900 : 0.144944\n",
      "Cost after iteration 1000 : 0.138995\n",
      "Cost after iteration 1100 : 0.133689\n",
      "Cost after iteration 1200 : 0.128914\n",
      "Cost after iteration 1300 : 0.124588\n",
      "Cost after iteration 1400 : 0.120646\n",
      "Cost after iteration 1500 : 0.117033\n",
      "Cost after iteration 1600 : 0.113709\n",
      "Cost after iteration 1700 : 0.110636\n",
      "Cost after iteration 1800 : 0.107785\n",
      "Cost after iteration 1900 : 0.105131\n",
      "train accuracy: 98.16666666666667 %\n",
      "test accuracy: 95.33333333333333 %\n"
     ]
    }
   ],
   "source": [
    "#Run the model\n",
    "d = model(train_set_x, train_set_y, test_set_x, test_set_y, num_iterations = 2000, learning_rate = 0.005, print_cost = True)"
   ]
  },
  {
   "cell_type": "code",
   "execution_count": 23,
   "id": "1d55d09c",
   "metadata": {},
   "outputs": [
    {
     "data": {
      "image/png": "[encoded data removed]",
      "text/plain": [
       "<Figure size 432x288 with 1 Axes>"
      ]
     },
     "metadata": {
      "needs_background": "light"
     },
     "output_type": "display_data"
    }
   ],
   "source": [
    "# Plot learning curve (with costs)\n",
    "costs = np.squeeze(d['costs'])\n",
    "plt.plot(costs)\n",
    "plt.ylabel('cost')\n",
    "plt.xlabel('iterations (per hundreds)')\n",
    "plt.title(\"Learning rate =\" + str(d[\"learning_rate\"]))\n",
    "plt.show()"
   ]
  },
  {
   "cell_type": "markdown",
   "id": "c5a5055c",
   "metadata": {},
   "source": [
    "Test with our own image"
   ]
  },
  {
   "cell_type": "code",
   "execution_count": 30,
   "id": "3fd1f4b4",
   "metadata": {},
   "outputs": [],
   "source": [
    "## START CODE HERE ## (PUT YOUR IMAGE NAME) \n",
    "#my_image = \"happy_face.jpg\"  \n",
    "\n",
    "my_image = \"sad_face2.jpg\"  \n",
    "\n",
    "fname = \"images/\" + my_image\n",
    "x = np.array(plt.imread(fname))"
   ]
  },
  {
   "cell_type": "code",
   "execution_count": 31,
   "id": "44fbde36",
   "metadata": {},
   "outputs": [],
   "source": [
    "from PIL import Image\n",
    "import numpy as np \n",
    "\n",
    "img = Image.fromarray(x)\n",
    "img = img.resize((num_px,num_px))\n",
    "x = np.asarray(img)\n",
    "x = x.reshape(1, num_px*num_px*3)\n",
    "x = x.T"
   ]
  },
  {
   "cell_type": "code",
   "execution_count": 32,
   "id": "e855e1f5",
   "metadata": {},
   "outputs": [
    {
     "name": "stdout",
     "output_type": "stream",
     "text": [
      "y = 0.0, your algorithm predicts a \"Not Happy Face\" picture.\n"
     ]
    },
    {
     "data": {
      "image/png": "[encoded data removed]",
      "text/plain": [
       "<Figure size 432x288 with 1 Axes>"
      ]
     },
     "metadata": {
      "needs_background": "light"
     },
     "output_type": "display_data"
    }
   ],
   "source": [
    "my_predicted_image = predict(d[\"w\"], d[\"b\"], x)\n",
    "\n",
    "plt.imshow(img)\n",
    "\n",
    "y = np.squeeze(my_predicted_image)\n",
    "\n",
    "output = 'Happy Face'\n",
    "if(y ==0):\n",
    "    output = 'Not Happy Face'\n",
    "    \n",
    "print(\"y = \" + str(y) + \", your algorithm predicts a \\\"\" +output +   \"\\\" picture.\")"
   ]
  },
  {
   "cell_type": "code",
   "execution_count": null,
   "id": "d03fc6d2",
   "metadata": {},
   "outputs": [],
   "source": []
  }
 ],
 "metadata": {
  "kernelspec": {
   "display_name": "Python 3 (ipykernel)",
   "language": "python",
   "name": "python3"
  },
  "language_info": {
   "codemirror_mode": {
    "name": "ipython",
    "version": 3
   },
   "file_extension": ".py",
   "mimetype": "text/x-python",
   "name": "python",
   "nbconvert_exporter": "python",
   "pygments_lexer": "ipython3",
   "version": "3.9.12"
  }
 },
 "nbformat": 4,
 "nbformat_minor": 5
}
